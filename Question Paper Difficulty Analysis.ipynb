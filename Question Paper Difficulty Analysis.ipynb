{
 "cells": [
  {
   "cell_type": "markdown",
   "id": "9a42bb26",
   "metadata": {},
   "source": [
    "# Question Paper Difficulty Analysis"
   ]
  },
  {
   "cell_type": "code",
   "execution_count": 1,
   "id": "eb4f9913",
   "metadata": {},
   "outputs": [],
   "source": [
    "import pandas as pd\n",
    "import matplotlib.pyplot as plt  \n",
    "import seaborn as sns\n",
    "from sklearn.naive_bayes import CategoricalNB\n",
    "from sklearn.ensemble import RandomForestClassifier\n",
    "from sklearn.metrics import confusion_matrix,classification_report, accuracy_score"
   ]
  },
  {
   "cell_type": "markdown",
   "id": "0cfbc821",
   "metadata": {},
   "source": [
    "# Data Importing"
   ]
  },
  {
   "cell_type": "code",
   "execution_count": 2,
   "id": "89aa0238",
   "metadata": {},
   "outputs": [
    {
     "data": {
      "text/html": [
       "<div>\n",
       "<style scoped>\n",
       "    .dataframe tbody tr th:only-of-type {\n",
       "        vertical-align: middle;\n",
       "    }\n",
       "\n",
       "    .dataframe tbody tr th {\n",
       "        vertical-align: top;\n",
       "    }\n",
       "\n",
       "    .dataframe thead th {\n",
       "        text-align: right;\n",
       "    }\n",
       "</style>\n",
       "<table border=\"1\" class=\"dataframe\">\n",
       "  <thead>\n",
       "    <tr style=\"text-align: right;\">\n",
       "      <th></th>\n",
       "      <th>CGPA:</th>\n",
       "      <th>Question.1</th>\n",
       "      <th>Question.2</th>\n",
       "      <th>Question.3</th>\n",
       "      <th>Question.4</th>\n",
       "      <th>Question.5</th>\n",
       "      <th>Overall Dificulty</th>\n",
       "    </tr>\n",
       "  </thead>\n",
       "  <tbody>\n",
       "    <tr>\n",
       "      <th>0</th>\n",
       "      <td>aboveAvg</td>\n",
       "      <td>medium</td>\n",
       "      <td>easy</td>\n",
       "      <td>hard</td>\n",
       "      <td>hard</td>\n",
       "      <td>medium</td>\n",
       "      <td>MEDIUM</td>\n",
       "    </tr>\n",
       "    <tr>\n",
       "      <th>1</th>\n",
       "      <td>aboveAvg</td>\n",
       "      <td>easy</td>\n",
       "      <td>medium</td>\n",
       "      <td>hard</td>\n",
       "      <td>medium</td>\n",
       "      <td>easy</td>\n",
       "      <td>MEDIUM</td>\n",
       "    </tr>\n",
       "    <tr>\n",
       "      <th>2</th>\n",
       "      <td>aboveAvg</td>\n",
       "      <td>medium</td>\n",
       "      <td>medium</td>\n",
       "      <td>medium</td>\n",
       "      <td>hard</td>\n",
       "      <td>hard</td>\n",
       "      <td>TOUGH</td>\n",
       "    </tr>\n",
       "    <tr>\n",
       "      <th>3</th>\n",
       "      <td>aboveAvg</td>\n",
       "      <td>easy</td>\n",
       "      <td>hard</td>\n",
       "      <td>hard</td>\n",
       "      <td>easy</td>\n",
       "      <td>medium</td>\n",
       "      <td>MEDIUM</td>\n",
       "    </tr>\n",
       "    <tr>\n",
       "      <th>4</th>\n",
       "      <td>Avg</td>\n",
       "      <td>hard</td>\n",
       "      <td>hard</td>\n",
       "      <td>hard</td>\n",
       "      <td>hard</td>\n",
       "      <td>hard</td>\n",
       "      <td>TOUGH</td>\n",
       "    </tr>\n",
       "  </tbody>\n",
       "</table>\n",
       "</div>"
      ],
      "text/plain": [
       "      CGPA: Question.1 Question.2 Question.3 Question.4 Question.5  \\\n",
       "0  aboveAvg     medium       easy       hard       hard     medium   \n",
       "1  aboveAvg       easy     medium       hard     medium       easy   \n",
       "2  aboveAvg     medium     medium     medium       hard       hard   \n",
       "3  aboveAvg       easy       hard       hard       easy     medium   \n",
       "4       Avg       hard       hard       hard       hard       hard   \n",
       "\n",
       "  Overall Dificulty  \n",
       "0            MEDIUM  \n",
       "1            MEDIUM  \n",
       "2             TOUGH  \n",
       "3            MEDIUM  \n",
       "4             TOUGH  "
      ]
     },
     "execution_count": 2,
     "metadata": {},
     "output_type": "execute_result"
    }
   ],
   "source": [
    "dataframe = pd.read_csv(\"predictiondata.csv\")\n",
    "dataframe.head()"
   ]
  },
  {
   "cell_type": "markdown",
   "id": "312405e7",
   "metadata": {},
   "source": [
    "# Data Transformation\n",
    "\n",
    "Let's transform the data into numerical representation for easier process.\n",
    "\n",
    "On a scale of 1-3,\n",
    "\n",
    "Our target attribute 'Overall Dificulty' transformed into '1'->EASY, '2'->MEDIUM, '3'->TOUGH\n",
    "\n",
    "'CGPA' attribute transformed into '1'->belowAvg, '2'->Avg, '3'->aboveAvg\n",
    "\n",
    "All the 5 question attributes transformed into '1'->easy, '2'->medium, '3'->hard"
   ]
  },
  {
   "cell_type": "code",
   "execution_count": 3,
   "id": "6cb427b8",
   "metadata": {},
   "outputs": [
    {
     "data": {
      "text/html": [
       "<div>\n",
       "<style scoped>\n",
       "    .dataframe tbody tr th:only-of-type {\n",
       "        vertical-align: middle;\n",
       "    }\n",
       "\n",
       "    .dataframe tbody tr th {\n",
       "        vertical-align: top;\n",
       "    }\n",
       "\n",
       "    .dataframe thead th {\n",
       "        text-align: right;\n",
       "    }\n",
       "</style>\n",
       "<table border=\"1\" class=\"dataframe\">\n",
       "  <thead>\n",
       "    <tr style=\"text-align: right;\">\n",
       "      <th></th>\n",
       "      <th>CGPA:</th>\n",
       "      <th>Question.1</th>\n",
       "      <th>Question.2</th>\n",
       "      <th>Question.3</th>\n",
       "      <th>Question.4</th>\n",
       "      <th>Question.5</th>\n",
       "      <th>Overall Dificulty</th>\n",
       "    </tr>\n",
       "  </thead>\n",
       "  <tbody>\n",
       "    <tr>\n",
       "      <th>0</th>\n",
       "      <td>3</td>\n",
       "      <td>2</td>\n",
       "      <td>1</td>\n",
       "      <td>3</td>\n",
       "      <td>3</td>\n",
       "      <td>2</td>\n",
       "      <td>2</td>\n",
       "    </tr>\n",
       "    <tr>\n",
       "      <th>1</th>\n",
       "      <td>3</td>\n",
       "      <td>1</td>\n",
       "      <td>2</td>\n",
       "      <td>3</td>\n",
       "      <td>2</td>\n",
       "      <td>1</td>\n",
       "      <td>2</td>\n",
       "    </tr>\n",
       "    <tr>\n",
       "      <th>2</th>\n",
       "      <td>3</td>\n",
       "      <td>2</td>\n",
       "      <td>2</td>\n",
       "      <td>2</td>\n",
       "      <td>3</td>\n",
       "      <td>3</td>\n",
       "      <td>3</td>\n",
       "    </tr>\n",
       "    <tr>\n",
       "      <th>3</th>\n",
       "      <td>3</td>\n",
       "      <td>1</td>\n",
       "      <td>3</td>\n",
       "      <td>3</td>\n",
       "      <td>1</td>\n",
       "      <td>2</td>\n",
       "      <td>2</td>\n",
       "    </tr>\n",
       "    <tr>\n",
       "      <th>4</th>\n",
       "      <td>2</td>\n",
       "      <td>3</td>\n",
       "      <td>3</td>\n",
       "      <td>3</td>\n",
       "      <td>3</td>\n",
       "      <td>3</td>\n",
       "      <td>3</td>\n",
       "    </tr>\n",
       "  </tbody>\n",
       "</table>\n",
       "</div>"
      ],
      "text/plain": [
       "   CGPA:  Question.1  Question.2  Question.3  Question.4  Question.5  \\\n",
       "0      3           2           1           3           3           2   \n",
       "1      3           1           2           3           2           1   \n",
       "2      3           2           2           2           3           3   \n",
       "3      3           1           3           3           1           2   \n",
       "4      2           3           3           3           3           3   \n",
       "\n",
       "   Overall Dificulty  \n",
       "0                  2  \n",
       "1                  2  \n",
       "2                  3  \n",
       "3                  2  \n",
       "4                  3  "
      ]
     },
     "execution_count": 3,
     "metadata": {},
     "output_type": "execute_result"
    }
   ],
   "source": [
    "dataframe = pd.read_csv(\"sampledata.csv\")\n",
    "dataframe.head()"
   ]
  },
  {
   "cell_type": "markdown",
   "id": "799b8c75",
   "metadata": {},
   "source": [
    "# Data Analysis"
   ]
  },
  {
   "cell_type": "code",
   "execution_count": 4,
   "id": "43c885e7",
   "metadata": {},
   "outputs": [
    {
     "name": "stdout",
     "output_type": "stream",
     "text": [
      "<class 'pandas.core.frame.DataFrame'>\n",
      "RangeIndex: 530 entries, 0 to 529\n",
      "Data columns (total 7 columns):\n",
      " #   Column             Non-Null Count  Dtype\n",
      "---  ------             --------------  -----\n",
      " 0   CGPA:              530 non-null    int64\n",
      " 1   Question.1         530 non-null    int64\n",
      " 2   Question.2         530 non-null    int64\n",
      " 3   Question.3         530 non-null    int64\n",
      " 4   Question.4         530 non-null    int64\n",
      " 5   Question.5         530 non-null    int64\n",
      " 6   Overall Dificulty  530 non-null    int64\n",
      "dtypes: int64(7)\n",
      "memory usage: 29.1 KB\n"
     ]
    }
   ],
   "source": [
    "dataframe.info()"
   ]
  },
  {
   "cell_type": "code",
   "execution_count": 5,
   "id": "f8781eb8",
   "metadata": {},
   "outputs": [
    {
     "data": {
      "text/html": [
       "<div>\n",
       "<style scoped>\n",
       "    .dataframe tbody tr th:only-of-type {\n",
       "        vertical-align: middle;\n",
       "    }\n",
       "\n",
       "    .dataframe tbody tr th {\n",
       "        vertical-align: top;\n",
       "    }\n",
       "\n",
       "    .dataframe thead th {\n",
       "        text-align: right;\n",
       "    }\n",
       "</style>\n",
       "<table border=\"1\" class=\"dataframe\">\n",
       "  <thead>\n",
       "    <tr style=\"text-align: right;\">\n",
       "      <th></th>\n",
       "      <th>CGPA:</th>\n",
       "      <th>Question.1</th>\n",
       "      <th>Question.2</th>\n",
       "      <th>Question.3</th>\n",
       "      <th>Question.4</th>\n",
       "      <th>Question.5</th>\n",
       "      <th>Overall Dificulty</th>\n",
       "    </tr>\n",
       "  </thead>\n",
       "  <tbody>\n",
       "    <tr>\n",
       "      <th>count</th>\n",
       "      <td>530.000000</td>\n",
       "      <td>530.000000</td>\n",
       "      <td>530.000000</td>\n",
       "      <td>530.000000</td>\n",
       "      <td>530.000000</td>\n",
       "      <td>530.000000</td>\n",
       "      <td>530.000000</td>\n",
       "    </tr>\n",
       "    <tr>\n",
       "      <th>mean</th>\n",
       "      <td>2.211321</td>\n",
       "      <td>1.741509</td>\n",
       "      <td>1.918868</td>\n",
       "      <td>1.915094</td>\n",
       "      <td>1.950943</td>\n",
       "      <td>2.016981</td>\n",
       "      <td>2.032075</td>\n",
       "    </tr>\n",
       "    <tr>\n",
       "      <th>std</th>\n",
       "      <td>0.712211</td>\n",
       "      <td>0.716517</td>\n",
       "      <td>0.772289</td>\n",
       "      <td>0.771882</td>\n",
       "      <td>0.751463</td>\n",
       "      <td>0.751617</td>\n",
       "      <td>0.778315</td>\n",
       "    </tr>\n",
       "    <tr>\n",
       "      <th>min</th>\n",
       "      <td>1.000000</td>\n",
       "      <td>1.000000</td>\n",
       "      <td>1.000000</td>\n",
       "      <td>1.000000</td>\n",
       "      <td>1.000000</td>\n",
       "      <td>1.000000</td>\n",
       "      <td>1.000000</td>\n",
       "    </tr>\n",
       "    <tr>\n",
       "      <th>25%</th>\n",
       "      <td>2.000000</td>\n",
       "      <td>1.000000</td>\n",
       "      <td>1.000000</td>\n",
       "      <td>1.000000</td>\n",
       "      <td>1.000000</td>\n",
       "      <td>1.000000</td>\n",
       "      <td>1.000000</td>\n",
       "    </tr>\n",
       "    <tr>\n",
       "      <th>50%</th>\n",
       "      <td>2.000000</td>\n",
       "      <td>2.000000</td>\n",
       "      <td>2.000000</td>\n",
       "      <td>2.000000</td>\n",
       "      <td>2.000000</td>\n",
       "      <td>2.000000</td>\n",
       "      <td>2.000000</td>\n",
       "    </tr>\n",
       "    <tr>\n",
       "      <th>75%</th>\n",
       "      <td>3.000000</td>\n",
       "      <td>2.000000</td>\n",
       "      <td>3.000000</td>\n",
       "      <td>3.000000</td>\n",
       "      <td>3.000000</td>\n",
       "      <td>3.000000</td>\n",
       "      <td>3.000000</td>\n",
       "    </tr>\n",
       "    <tr>\n",
       "      <th>max</th>\n",
       "      <td>3.000000</td>\n",
       "      <td>3.000000</td>\n",
       "      <td>3.000000</td>\n",
       "      <td>3.000000</td>\n",
       "      <td>3.000000</td>\n",
       "      <td>3.000000</td>\n",
       "      <td>3.000000</td>\n",
       "    </tr>\n",
       "  </tbody>\n",
       "</table>\n",
       "</div>"
      ],
      "text/plain": [
       "            CGPA:  Question.1  Question.2  Question.3  Question.4  Question.5  \\\n",
       "count  530.000000  530.000000  530.000000  530.000000  530.000000  530.000000   \n",
       "mean     2.211321    1.741509    1.918868    1.915094    1.950943    2.016981   \n",
       "std      0.712211    0.716517    0.772289    0.771882    0.751463    0.751617   \n",
       "min      1.000000    1.000000    1.000000    1.000000    1.000000    1.000000   \n",
       "25%      2.000000    1.000000    1.000000    1.000000    1.000000    1.000000   \n",
       "50%      2.000000    2.000000    2.000000    2.000000    2.000000    2.000000   \n",
       "75%      3.000000    2.000000    3.000000    3.000000    3.000000    3.000000   \n",
       "max      3.000000    3.000000    3.000000    3.000000    3.000000    3.000000   \n",
       "\n",
       "       Overall Dificulty  \n",
       "count         530.000000  \n",
       "mean            2.032075  \n",
       "std             0.778315  \n",
       "min             1.000000  \n",
       "25%             1.000000  \n",
       "50%             2.000000  \n",
       "75%             3.000000  \n",
       "max             3.000000  "
      ]
     },
     "execution_count": 5,
     "metadata": {},
     "output_type": "execute_result"
    }
   ],
   "source": [
    "dataframe.describe()"
   ]
  },
  {
   "cell_type": "code",
   "execution_count": 6,
   "id": "12f79347",
   "metadata": {},
   "outputs": [
    {
     "data": {
      "text/html": [
       "<div>\n",
       "<style scoped>\n",
       "    .dataframe tbody tr th:only-of-type {\n",
       "        vertical-align: middle;\n",
       "    }\n",
       "\n",
       "    .dataframe tbody tr th {\n",
       "        vertical-align: top;\n",
       "    }\n",
       "\n",
       "    .dataframe thead tr th {\n",
       "        text-align: left;\n",
       "    }\n",
       "\n",
       "    .dataframe thead tr:last-of-type th {\n",
       "        text-align: right;\n",
       "    }\n",
       "</style>\n",
       "<table border=\"1\" class=\"dataframe\">\n",
       "  <thead>\n",
       "    <tr>\n",
       "      <th></th>\n",
       "      <th colspan=\"8\" halign=\"left\">CGPA:</th>\n",
       "      <th colspan=\"2\" halign=\"left\">Question.1</th>\n",
       "      <th>...</th>\n",
       "      <th colspan=\"2\" halign=\"left\">Question.4</th>\n",
       "      <th colspan=\"8\" halign=\"left\">Question.5</th>\n",
       "    </tr>\n",
       "    <tr>\n",
       "      <th></th>\n",
       "      <th>count</th>\n",
       "      <th>mean</th>\n",
       "      <th>std</th>\n",
       "      <th>min</th>\n",
       "      <th>25%</th>\n",
       "      <th>50%</th>\n",
       "      <th>75%</th>\n",
       "      <th>max</th>\n",
       "      <th>count</th>\n",
       "      <th>mean</th>\n",
       "      <th>...</th>\n",
       "      <th>75%</th>\n",
       "      <th>max</th>\n",
       "      <th>count</th>\n",
       "      <th>mean</th>\n",
       "      <th>std</th>\n",
       "      <th>min</th>\n",
       "      <th>25%</th>\n",
       "      <th>50%</th>\n",
       "      <th>75%</th>\n",
       "      <th>max</th>\n",
       "    </tr>\n",
       "    <tr>\n",
       "      <th>Overall Dificulty</th>\n",
       "      <th></th>\n",
       "      <th></th>\n",
       "      <th></th>\n",
       "      <th></th>\n",
       "      <th></th>\n",
       "      <th></th>\n",
       "      <th></th>\n",
       "      <th></th>\n",
       "      <th></th>\n",
       "      <th></th>\n",
       "      <th></th>\n",
       "      <th></th>\n",
       "      <th></th>\n",
       "      <th></th>\n",
       "      <th></th>\n",
       "      <th></th>\n",
       "      <th></th>\n",
       "      <th></th>\n",
       "      <th></th>\n",
       "      <th></th>\n",
       "      <th></th>\n",
       "    </tr>\n",
       "  </thead>\n",
       "  <tbody>\n",
       "    <tr>\n",
       "      <th>1</th>\n",
       "      <td>152.0</td>\n",
       "      <td>2.631579</td>\n",
       "      <td>0.594503</td>\n",
       "      <td>1.0</td>\n",
       "      <td>2.0</td>\n",
       "      <td>3.0</td>\n",
       "      <td>3.0</td>\n",
       "      <td>3.0</td>\n",
       "      <td>152.0</td>\n",
       "      <td>1.473684</td>\n",
       "      <td>...</td>\n",
       "      <td>1.25</td>\n",
       "      <td>3.0</td>\n",
       "      <td>152.0</td>\n",
       "      <td>1.447368</td>\n",
       "      <td>0.606690</td>\n",
       "      <td>1.0</td>\n",
       "      <td>1.0</td>\n",
       "      <td>1.0</td>\n",
       "      <td>2.0</td>\n",
       "      <td>3.0</td>\n",
       "    </tr>\n",
       "    <tr>\n",
       "      <th>2</th>\n",
       "      <td>209.0</td>\n",
       "      <td>2.282297</td>\n",
       "      <td>0.666306</td>\n",
       "      <td>1.0</td>\n",
       "      <td>2.0</td>\n",
       "      <td>2.0</td>\n",
       "      <td>3.0</td>\n",
       "      <td>3.0</td>\n",
       "      <td>209.0</td>\n",
       "      <td>1.550239</td>\n",
       "      <td>...</td>\n",
       "      <td>2.00</td>\n",
       "      <td>3.0</td>\n",
       "      <td>209.0</td>\n",
       "      <td>1.918660</td>\n",
       "      <td>0.641577</td>\n",
       "      <td>1.0</td>\n",
       "      <td>2.0</td>\n",
       "      <td>2.0</td>\n",
       "      <td>2.0</td>\n",
       "      <td>3.0</td>\n",
       "    </tr>\n",
       "    <tr>\n",
       "      <th>3</th>\n",
       "      <td>169.0</td>\n",
       "      <td>1.745562</td>\n",
       "      <td>0.587869</td>\n",
       "      <td>1.0</td>\n",
       "      <td>1.0</td>\n",
       "      <td>2.0</td>\n",
       "      <td>2.0</td>\n",
       "      <td>3.0</td>\n",
       "      <td>169.0</td>\n",
       "      <td>2.218935</td>\n",
       "      <td>...</td>\n",
       "      <td>3.00</td>\n",
       "      <td>3.0</td>\n",
       "      <td>169.0</td>\n",
       "      <td>2.650888</td>\n",
       "      <td>0.478106</td>\n",
       "      <td>2.0</td>\n",
       "      <td>2.0</td>\n",
       "      <td>3.0</td>\n",
       "      <td>3.0</td>\n",
       "      <td>3.0</td>\n",
       "    </tr>\n",
       "  </tbody>\n",
       "</table>\n",
       "<p>3 rows × 48 columns</p>\n",
       "</div>"
      ],
      "text/plain": [
       "                   CGPA:                                               \\\n",
       "                   count      mean       std  min  25%  50%  75%  max   \n",
       "Overall Dificulty                                                       \n",
       "1                  152.0  2.631579  0.594503  1.0  2.0  3.0  3.0  3.0   \n",
       "2                  209.0  2.282297  0.666306  1.0  2.0  2.0  3.0  3.0   \n",
       "3                  169.0  1.745562  0.587869  1.0  1.0  2.0  2.0  3.0   \n",
       "\n",
       "                  Question.1            ... Question.4      Question.5  \\\n",
       "                       count      mean  ...        75%  max      count   \n",
       "Overall Dificulty                       ...                              \n",
       "1                      152.0  1.473684  ...       1.25  3.0      152.0   \n",
       "2                      209.0  1.550239  ...       2.00  3.0      209.0   \n",
       "3                      169.0  2.218935  ...       3.00  3.0      169.0   \n",
       "\n",
       "                                                                \n",
       "                       mean       std  min  25%  50%  75%  max  \n",
       "Overall Dificulty                                               \n",
       "1                  1.447368  0.606690  1.0  1.0  1.0  2.0  3.0  \n",
       "2                  1.918660  0.641577  1.0  2.0  2.0  2.0  3.0  \n",
       "3                  2.650888  0.478106  2.0  2.0  3.0  3.0  3.0  \n",
       "\n",
       "[3 rows x 48 columns]"
      ]
     },
     "execution_count": 6,
     "metadata": {},
     "output_type": "execute_result"
    }
   ],
   "source": [
    "dataframe.groupby('Overall Dificulty').describe()"
   ]
  },
  {
   "cell_type": "code",
   "execution_count": 7,
   "id": "9070c249",
   "metadata": {},
   "outputs": [
    {
     "data": {
      "text/html": [
       "<div>\n",
       "<style scoped>\n",
       "    .dataframe tbody tr th:only-of-type {\n",
       "        vertical-align: middle;\n",
       "    }\n",
       "\n",
       "    .dataframe tbody tr th {\n",
       "        vertical-align: top;\n",
       "    }\n",
       "\n",
       "    .dataframe thead tr th {\n",
       "        text-align: left;\n",
       "    }\n",
       "\n",
       "    .dataframe thead tr:last-of-type th {\n",
       "        text-align: right;\n",
       "    }\n",
       "</style>\n",
       "<table border=\"1\" class=\"dataframe\">\n",
       "  <thead>\n",
       "    <tr>\n",
       "      <th></th>\n",
       "      <th colspan=\"8\" halign=\"left\">Question.1</th>\n",
       "      <th colspan=\"2\" halign=\"left\">Question.2</th>\n",
       "      <th>...</th>\n",
       "      <th colspan=\"2\" halign=\"left\">Question.5</th>\n",
       "      <th colspan=\"8\" halign=\"left\">Overall Dificulty</th>\n",
       "    </tr>\n",
       "    <tr>\n",
       "      <th></th>\n",
       "      <th>count</th>\n",
       "      <th>mean</th>\n",
       "      <th>std</th>\n",
       "      <th>min</th>\n",
       "      <th>25%</th>\n",
       "      <th>50%</th>\n",
       "      <th>75%</th>\n",
       "      <th>max</th>\n",
       "      <th>count</th>\n",
       "      <th>mean</th>\n",
       "      <th>...</th>\n",
       "      <th>75%</th>\n",
       "      <th>max</th>\n",
       "      <th>count</th>\n",
       "      <th>mean</th>\n",
       "      <th>std</th>\n",
       "      <th>min</th>\n",
       "      <th>25%</th>\n",
       "      <th>50%</th>\n",
       "      <th>75%</th>\n",
       "      <th>max</th>\n",
       "    </tr>\n",
       "    <tr>\n",
       "      <th>CGPA:</th>\n",
       "      <th></th>\n",
       "      <th></th>\n",
       "      <th></th>\n",
       "      <th></th>\n",
       "      <th></th>\n",
       "      <th></th>\n",
       "      <th></th>\n",
       "      <th></th>\n",
       "      <th></th>\n",
       "      <th></th>\n",
       "      <th></th>\n",
       "      <th></th>\n",
       "      <th></th>\n",
       "      <th></th>\n",
       "      <th></th>\n",
       "      <th></th>\n",
       "      <th></th>\n",
       "      <th></th>\n",
       "      <th></th>\n",
       "      <th></th>\n",
       "      <th></th>\n",
       "    </tr>\n",
       "  </thead>\n",
       "  <tbody>\n",
       "    <tr>\n",
       "      <th>1</th>\n",
       "      <td>90.0</td>\n",
       "      <td>1.900000</td>\n",
       "      <td>0.750281</td>\n",
       "      <td>1.0</td>\n",
       "      <td>1.0</td>\n",
       "      <td>2.0</td>\n",
       "      <td>2.0</td>\n",
       "      <td>3.0</td>\n",
       "      <td>90.0</td>\n",
       "      <td>2.300000</td>\n",
       "      <td>...</td>\n",
       "      <td>2.0</td>\n",
       "      <td>3.0</td>\n",
       "      <td>90.0</td>\n",
       "      <td>2.522222</td>\n",
       "      <td>0.674208</td>\n",
       "      <td>1.0</td>\n",
       "      <td>2.0</td>\n",
       "      <td>3.0</td>\n",
       "      <td>3.0</td>\n",
       "      <td>3.0</td>\n",
       "    </tr>\n",
       "    <tr>\n",
       "      <th>2</th>\n",
       "      <td>238.0</td>\n",
       "      <td>1.857143</td>\n",
       "      <td>0.703046</td>\n",
       "      <td>1.0</td>\n",
       "      <td>1.0</td>\n",
       "      <td>2.0</td>\n",
       "      <td>2.0</td>\n",
       "      <td>3.0</td>\n",
       "      <td>238.0</td>\n",
       "      <td>2.042017</td>\n",
       "      <td>...</td>\n",
       "      <td>3.0</td>\n",
       "      <td>3.0</td>\n",
       "      <td>238.0</td>\n",
       "      <td>2.260504</td>\n",
       "      <td>0.717028</td>\n",
       "      <td>1.0</td>\n",
       "      <td>2.0</td>\n",
       "      <td>2.0</td>\n",
       "      <td>3.0</td>\n",
       "      <td>3.0</td>\n",
       "    </tr>\n",
       "    <tr>\n",
       "      <th>3</th>\n",
       "      <td>202.0</td>\n",
       "      <td>1.534653</td>\n",
       "      <td>0.670106</td>\n",
       "      <td>1.0</td>\n",
       "      <td>1.0</td>\n",
       "      <td>1.0</td>\n",
       "      <td>2.0</td>\n",
       "      <td>3.0</td>\n",
       "      <td>202.0</td>\n",
       "      <td>1.603960</td>\n",
       "      <td>...</td>\n",
       "      <td>2.0</td>\n",
       "      <td>3.0</td>\n",
       "      <td>202.0</td>\n",
       "      <td>1.544554</td>\n",
       "      <td>0.615306</td>\n",
       "      <td>1.0</td>\n",
       "      <td>1.0</td>\n",
       "      <td>1.0</td>\n",
       "      <td>2.0</td>\n",
       "      <td>3.0</td>\n",
       "    </tr>\n",
       "  </tbody>\n",
       "</table>\n",
       "<p>3 rows × 48 columns</p>\n",
       "</div>"
      ],
      "text/plain": [
       "      Question.1                                              Question.2  \\\n",
       "           count      mean       std  min  25%  50%  75%  max      count   \n",
       "CGPA:                                                                      \n",
       "1           90.0  1.900000  0.750281  1.0  1.0  2.0  2.0  3.0       90.0   \n",
       "2          238.0  1.857143  0.703046  1.0  1.0  2.0  2.0  3.0      238.0   \n",
       "3          202.0  1.534653  0.670106  1.0  1.0  1.0  2.0  3.0      202.0   \n",
       "\n",
       "                 ... Question.5      Overall Dificulty                      \\\n",
       "           mean  ...        75%  max             count      mean       std   \n",
       "CGPA:            ...                                                         \n",
       "1      2.300000  ...        2.0  3.0              90.0  2.522222  0.674208   \n",
       "2      2.042017  ...        3.0  3.0             238.0  2.260504  0.717028   \n",
       "3      1.603960  ...        2.0  3.0             202.0  1.544554  0.615306   \n",
       "\n",
       "                                \n",
       "       min  25%  50%  75%  max  \n",
       "CGPA:                           \n",
       "1      1.0  2.0  3.0  3.0  3.0  \n",
       "2      1.0  2.0  2.0  3.0  3.0  \n",
       "3      1.0  1.0  1.0  2.0  3.0  \n",
       "\n",
       "[3 rows x 48 columns]"
      ]
     },
     "execution_count": 7,
     "metadata": {},
     "output_type": "execute_result"
    }
   ],
   "source": [
    "dataframe.groupby('CGPA:').describe()"
   ]
  },
  {
   "cell_type": "markdown",
   "id": "b49014d1",
   "metadata": {},
   "source": [
    "# Data Visualization"
   ]
  },
  {
   "cell_type": "code",
   "execution_count": 8,
   "id": "f96ee758",
   "metadata": {},
   "outputs": [
    {
     "data": {
      "text/plain": [
       "array([[<AxesSubplot:title={'center':'1'}>,\n",
       "        <AxesSubplot:title={'center':'2'}>],\n",
       "       [<AxesSubplot:title={'center':'3'}>, <AxesSubplot:>]], dtype=object)"
      ]
     },
     "execution_count": 8,
     "metadata": {},
     "output_type": "execute_result"
    },
    {
     "data": {
      "image/png": "[encoded data removed]",
      "text/plain": [
       "<Figure size 864x576 with 4 Axes>"
      ]
     },
     "metadata": {
      "needs_background": "light"
     },
     "output_type": "display_data"
    }
   ],
   "source": [
    "dataframe.hist(column='Overall Dificulty',by='CGPA:',bins=5,figsize=(12,8))"
   ]
  },
  {
   "cell_type": "code",
   "execution_count": 9,
   "id": "9ddaea01",
   "metadata": {},
   "outputs": [
    {
     "data": {
      "text/plain": [
       "<AxesSubplot:xlabel='Overall Dificulty', ylabel='count'>"
      ]
     },
     "execution_count": 9,
     "metadata": {},
     "output_type": "execute_result"
    },
    {
     "data": {
      "image/png": "[encoded data removed]",
      "text/plain": [
       "<Figure size 432x288 with 1 Axes>"
      ]
     },
     "metadata": {
      "needs_background": "light"
     },
     "output_type": "display_data"
    }
   ],
   "source": [
    "sns.countplot(x='Overall Dificulty',data=dataframe,palette='rainbow')"
   ]
  },
  {
   "cell_type": "markdown",
   "id": "4f2b2ad0",
   "metadata": {},
   "source": [
    "# Train test split"
   ]
  },
  {
   "cell_type": "code",
   "execution_count": 10,
   "id": "0d40356d",
   "metadata": {},
   "outputs": [],
   "source": [
    "features=dataframe.drop(['Overall Dificulty'],axis=1).values"
   ]
  },
  {
   "cell_type": "code",
   "execution_count": 11,
   "id": "29a72e99",
   "metadata": {},
   "outputs": [],
   "source": [
    "targets=dataframe['Overall Dificulty'].values"
   ]
  },
  {
   "cell_type": "code",
   "execution_count": 12,
   "id": "8d8c0384",
   "metadata": {},
   "outputs": [],
   "source": [
    "features_train, targets_train = features[0:400], targets[0:400]\n",
    "features_test, targets_test = features[400:], targets[400:]"
   ]
  },
  {
   "cell_type": "markdown",
   "id": "6cc20ee1",
   "metadata": {},
   "source": [
    "# Naive Bayes Classifier"
   ]
  },
  {
   "cell_type": "code",
   "execution_count": 13,
   "id": "ae5e7eb9",
   "metadata": {},
   "outputs": [
    {
     "data": {
      "text/plain": [
       "CategoricalNB()"
      ]
     },
     "execution_count": 13,
     "metadata": {},
     "output_type": "execute_result"
    }
   ],
   "source": [
    "model=CategoricalNB()\n",
    "model.fit(features_train, targets_train)"
   ]
  },
  {
   "cell_type": "code",
   "execution_count": 14,
   "id": "1b512b1b",
   "metadata": {},
   "outputs": [
    {
     "name": "stdout",
     "output_type": "stream",
     "text": [
      "[3 3 2 3 3 1 2 2 2 2 3 2 1 2 3 1 3 2 1 1 1 3 2 3 2 1 3 2 3 1 3 1 3 2 2 2 2\n",
      " 1 2 3 1 3 2 3 1 2 2 2 2 3 2 2 3 3 2 1 1 1 3 3 2 3 3 1 2 2 2 2 3 2 1 2 3 1\n",
      " 3 2 1 1 1 3 2 3 2 1 3 2 3 1 3 1 3 2 2 2 2 1 2 3 1 3 2 3 1 2 2 2 2 3 2 2 2\n",
      " 3 2 1 1 1 2 2 2 3 3 1 2 3 2 2 2 3 2 1]\n"
     ]
    }
   ],
   "source": [
    "pred=model.predict(features_test)\n",
    "print(pred)"
   ]
  },
  {
   "cell_type": "code",
   "execution_count": 15,
   "id": "a67218f6",
   "metadata": {},
   "outputs": [
    {
     "name": "stdout",
     "output_type": "stream",
     "text": [
      "[[30  5  0]\n",
      " [ 2 46  3]\n",
      " [ 0  6 38]]\n",
      "              precision    recall  f1-score   support\n",
      "\n",
      "           1       0.94      0.86      0.90        35\n",
      "           2       0.81      0.90      0.85        51\n",
      "           3       0.93      0.86      0.89        44\n",
      "\n",
      "    accuracy                           0.88       130\n",
      "   macro avg       0.89      0.87      0.88       130\n",
      "weighted avg       0.88      0.88      0.88       130\n",
      "\n"
     ]
    }
   ],
   "source": [
    "print(confusion_matrix(targets_test,pred))\n",
    "print(classification_report(targets_test, pred))"
   ]
  },
  {
   "cell_type": "code",
   "execution_count": 16,
   "id": "645e650c",
   "metadata": {},
   "outputs": [
    {
     "name": "stdout",
     "output_type": "stream",
     "text": [
      "87.6923076923077\n"
     ]
    }
   ],
   "source": [
    "nb_accuracy=model.score(features_test, targets_test)*100\n",
    "print(nb_accuracy)"
   ]
  },
  {
   "cell_type": "markdown",
   "id": "8e27a876",
   "metadata": {},
   "source": [
    "# Accuracy = 87.69%"
   ]
  },
  {
   "cell_type": "markdown",
   "id": "0060cf4d",
   "metadata": {},
   "source": [
    "# Random Forest Classifier"
   ]
  },
  {
   "cell_type": "code",
   "execution_count": 17,
   "id": "7e8a07c2",
   "metadata": {},
   "outputs": [
    {
     "data": {
      "text/plain": [
       "RandomForestClassifier(n_estimators=20, random_state=100)"
      ]
     },
     "execution_count": 17,
     "metadata": {},
     "output_type": "execute_result"
    }
   ],
   "source": [
    "rf = RandomForestClassifier(n_estimators=20, random_state=100)\n",
    "rf.fit(features_train, targets_train)"
   ]
  },
  {
   "cell_type": "code",
   "execution_count": 18,
   "id": "a0d13cce",
   "metadata": {},
   "outputs": [
    {
     "name": "stdout",
     "output_type": "stream",
     "text": [
      "[3 3 2 3 3 1 2 2 2 2 3 2 1 1 3 1 3 1 1 2 1 3 2 3 2 1 3 2 3 1 3 1 3 2 2 2 2\n",
      " 1 1 3 1 2 2 2 1 3 3 3 2 3 2 2 2 3 2 1 1 1 3 3 2 3 3 1 2 2 2 2 3 2 1 1 3 1\n",
      " 3 1 1 2 1 3 2 3 2 1 3 2 3 1 3 1 3 2 2 2 2 1 1 2 1 3 2 3 1 2 2 3 2 3 2 2 2\n",
      " 3 2 1 1 1 2 3 2 3 3 1 2 3 2 2 2 3 2 1]\n"
     ]
    }
   ],
   "source": [
    "y_pred = rf.predict(features_test)\n",
    "print(y_pred)"
   ]
  },
  {
   "cell_type": "code",
   "execution_count": 19,
   "id": "47b4e64a",
   "metadata": {},
   "outputs": [
    {
     "name": "stdout",
     "output_type": "stream",
     "text": [
      "[[35  0  0]\n",
      " [ 1 48  2]\n",
      " [ 0  4 40]]\n",
      "              precision    recall  f1-score   support\n",
      "\n",
      "           1       0.97      1.00      0.99        35\n",
      "           2       0.92      0.94      0.93        51\n",
      "           3       0.95      0.91      0.93        44\n",
      "\n",
      "    accuracy                           0.95       130\n",
      "   macro avg       0.95      0.95      0.95       130\n",
      "weighted avg       0.95      0.95      0.95       130\n",
      "\n"
     ]
    }
   ],
   "source": [
    "print(confusion_matrix(targets_test,y_pred))\n",
    "print(classification_report(targets_test,y_pred))"
   ]
  },
  {
   "cell_type": "code",
   "execution_count": 20,
   "id": "fee5aea3",
   "metadata": {},
   "outputs": [
    {
     "name": "stdout",
     "output_type": "stream",
     "text": [
      "94.61538461538461\n"
     ]
    }
   ],
   "source": [
    "rf_accuracy=rf.score(features_test, targets_test)*100\n",
    "print(rf_accuracy)"
   ]
  },
  {
   "cell_type": "markdown",
   "id": "c3be2730",
   "metadata": {},
   "source": [
    "# Accuracy = 94.61%"
   ]
  },
  {
   "cell_type": "markdown",
   "id": "b527175a",
   "metadata": {},
   "source": [
    "# Conclusion"
   ]
  },
  {
   "cell_type": "code",
   "execution_count": 21,
   "id": "0026823e",
   "metadata": {},
   "outputs": [
    {
     "data": {
      "image/png": "[encoded data removed]",
      "text/plain": [
       "<Figure size 360x360 with 1 Axes>"
      ]
     },
     "metadata": {
      "needs_background": "light"
     },
     "output_type": "display_data"
    }
   ],
   "source": [
    "data = {'Random Forest' : rf_accuracy, 'Naive Bayes' : nb_accuracy}\n",
    "\n",
    "algorithms = data.keys()\n",
    "results = data.values()\n",
    "\n",
    "fig = plt.figure(figsize = (5, 5))\n",
    "barlist = plt.bar(algorithms, results, width = 0.3)\n",
    "barlist[0].set_color('orange')\n",
    "barlist[1].set_color('green')\n",
    "plt.xlabel(\"Algorithm\")\n",
    "plt.ylabel(\"Accuracy\")\n",
    "plt.ylim(80, 100)\n",
    "plt.title(\"Question paper analysis\")\n",
    "plt.show()"
   ]
  },
  {
   "cell_type": "markdown",
   "id": "7e269928",
   "metadata": {},
   "source": [
    "On comparing both, we get higher accuracy on Random forest classifier(94.61%) "
   ]
  },
  {
   "cell_type": "code",
   "execution_count": null,
   "id": "43809401",
   "metadata": {},
   "outputs": [],
   "source": []
  }
 ],
 "metadata": {
  "kernelspec": {
   "display_name": "Python 3 (ipykernel)",
   "language": "python",
   "name": "python3"
  },
  "language_info": {
   "codemirror_mode": {
    "name": "ipython",
    "version": 3
   },
   "file_extension": ".py",
   "mimetype": "text/x-python",
   "name": "python",
   "nbconvert_exporter": "python",
   "pygments_lexer": "ipython3",
   "version": "3.9.7"
  }
 },
 "nbformat": 4,
 "nbformat_minor": 5
}
